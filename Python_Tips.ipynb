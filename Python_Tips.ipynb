{
  "nbformat": 4,
  "nbformat_minor": 0,
  "metadata": {
    "colab": {
      "provenance": [],
      "toc_visible": true,
      "authorship_tag": "ABX9TyNf2ZC62ciBXSia63xNZZvz",
      "include_colab_link": true
    },
    "kernelspec": {
      "name": "python3",
      "display_name": "Python 3"
    },
    "language_info": {
      "name": "python"
    }
  },
  "cells": [
    {
      "cell_type": "markdown",
      "metadata": {
        "id": "view-in-github",
        "colab_type": "text"
      },
      "source": [
        "<a href=\"https://colab.research.google.com/github/gusper01/API_BCRA/blob/main/Python_Tips.ipynb\" target=\"_parent\"><img src=\"https://colab.research.google.com/assets/colab-badge.svg\" alt=\"Open In Colab\"/></a>"
      ]
    },
    {
      "cell_type": "markdown",
      "source": [
        "# [Historia de Python](https://www.mclibre.org/consultar/python/otros/historia.html)\n",
        "**Guido van Rossum** ideó el lenguaje Python a finales de los 80 y comenzó a implementarlo en diciembre de 1989. En febrero de 1991 publicó la primera versión pública, la versión 0.9.0. La versión 1.0 se publicó en enero de 1994, la versión 2.0 se publicó en octubre de 2000 y la versión 3.0 se publicó en diciembre de 2008.\n",
        "\n",
        "Hasta 2018, el desarrollo de Python estaba dirigido personalmente por **Guido van Rossum** y bajo el paraguas de la fundación Python Software Foundation. En julio de 2018 Guido van Rossum anunció que dejaría de dirigir el desarrollo de Python. Desde 2019 el desarrollo de Python está dirigido por un consejo de dirección de cinco miembros elegidos entre los desarrolladores de Python y que se renueva anualmente."
      ],
      "metadata": {
        "id": "fWy5yAo6wDNq"
      }
    },
    {
      "cell_type": "markdown",
      "source": [
        "# Qué es el Zen de Python?\n",
        "Es una colección de principios y pautas que reflejan la filosofía detrás del diseño y desarrollo del código de programación en Python. Fue escrito por [Tim Peters](https://es.wikipedia.org/wiki/Tim_Peters) y se incluye en la distribucion de Python como un poema corto.\n",
        "Se puede ver ejecutando la sentencia ```import this```.\n",
        "Estos principios ayudan a los programadores de Python a escribir código que sea limpio, legible y fácil de mantener. También fomentan la consistencia en el estilo de programación Python, lo que hace que el código Python sea más accesible para otros desarrolladores y facilita la colaboración en proyectos de código abierto.\n",
        "\n",
        "*\"Beautiful is better than ugly.\"*: Promueve la generación de código limpio y estéticamente agradable en lugar de código desordenado o confuso.\n",
        "\n",
        "*\"Simple is better than complex.\"*: Promueve la generación de codigo simple y directo\n",
        "\n",
        "*\"Complex is better than complicated.\"*: Cuando la complejidad es necesaria, debe ser clara y no complicada.\n",
        "\n",
        "*\"Readability counts.\"*: Promueve la importancia de escribir código que otros puedan entender fácilmente.\n",
        "\n",
        "\"Errors should never pass silently.\" (Los errores nunca deben pasarse en silencio): Indica que los errores deben ser manejados y reportados en lugar de ser ignorados.\n",
        "\n",
        "\"If the implementation is hard to explain, it's a bad idea.\" Si la implementación es difícil de explicar, es una mala idea.\n",
        "\n"
      ],
      "metadata": {
        "id": "43MzhSGz7Yj2"
      }
    },
    {
      "cell_type": "code",
      "source": [
        "import this"
      ],
      "metadata": {
        "colab": {
          "base_uri": "https://localhost:8080/"
        },
        "id": "W_u69GT6OCY3",
        "outputId": "a60cf041-e6c5-43ae-9941-16ab1ad868b3"
      },
      "execution_count": null,
      "outputs": [
        {
          "output_type": "stream",
          "name": "stdout",
          "text": [
            "The Zen of Python, by Tim Peters\n",
            "\n",
            "Beautiful is better than ugly.\n",
            "Explicit is better than implicit.\n",
            "Simple is better than complex.\n",
            "Complex is better than complicated.\n",
            "Flat is better than nested.\n",
            "Sparse is better than dense.\n",
            "Readability counts.\n",
            "Special cases aren't special enough to break the rules.\n",
            "Although practicality beats purity.\n",
            "Errors should never pass silently.\n",
            "Unless explicitly silenced.\n",
            "In the face of ambiguity, refuse the temptation to guess.\n",
            "There should be one-- and preferably only one --obvious way to do it.\n",
            "Although that way may not be obvious at first unless you're Dutch.\n",
            "Now is better than never.\n",
            "Although never is often better than *right* now.\n",
            "If the implementation is hard to explain, it's a bad idea.\n",
            "If the implementation is easy to explain, it may be a good idea.\n",
            "Namespaces are one honking great idea -- let's do more of those!\n"
          ]
        }
      ]
    },
    {
      "cell_type": "markdown",
      "source": [
        "# Qué es PEP8? ✨\n",
        "\"Python Enhancement Proposal 8\", es la guía de estilo para la escritura de código en Python. Establece convenciones y buenas prácticas para mantener la legibilidad y la consistencia en el código Python.\n",
        "\n",
        "*   PEP 8 proporciona recomendaciones sobre la estructura del código, la indentación, el espaciado, los nombres de variables y funciones, la documentación y otros aspectos de la programación en Python.\n",
        "* Está definido en el documento oficial  \"PEP 8 -- Style Guide for Python Code\", disponible en el repositorio oficial en [Python.org PEP8](\n",
        "https://www.python.org/dev/peps/pep-0008/)"
      ],
      "metadata": {
        "id": "4xAobihSRtYr"
      }
    },
    {
      "cell_type": "markdown",
      "source": [],
      "metadata": {
        "id": "rWPGqlljNu4-"
      }
    },
    {
      "cell_type": "markdown",
      "source": [
        "# Por qué aprender Python? 🤔\n",
        "Según la encuesta de [Stack OverFlow de 2023](https://survey.stackoverflow.co/2023/#technology):\n",
        "\n",
        "* JavaScript es el lenguaje de programación más utilizado por undécimo año\n",
        "consecutivo\n",
        "* Python supera a SQL como el tercer lenguaje más utilizado, pero ocupa el primer lugar para aquellos que no son desarrolladores profesionales ni están aprendiendo a codificar (otros codificadores)\n",
        "* Los estudiantes desarrolladores usan Python más que SQL (59% frente a 37%), mientras que los desarrolladores profesionales informan que usan SQL más que Python (52% frente a 45%).\n",
        "\n",
        "Python figura en el primer puesto en el ranking [TIOBE](https://www.tiobe.com/tiobe-index/), este es un indicador de popularidad😎 de los lenguajes de programación. Este índice se actualiza mensualmente. Las calificaciones se basan en la cantidad de ingenieros capacitados en todo el mundo, cursos y proveedores externos.\n"
      ],
      "metadata": {
        "id": "xoGZwReLwcwA"
      }
    },
    {
      "cell_type": "markdown",
      "source": [
        "# Cuál es la última versión de Python?\n",
        "[Windows](https://www.python.org/downloads/windows/)\n",
        "\n",
        "[MacOs](https://www.python.org/downloads/macos/)\n",
        "\n",
        "[Linux/Unix](https://www.python.org/downloads/source/)\n"
      ],
      "metadata": {
        "id": "xekJpDf0xrau"
      }
    },
    {
      "cell_type": "markdown",
      "source": [
        "# Qué es Anaconda?\n",
        "\n",
        "[Anaconda](https://www.anaconda.com/about-us) es una distribución de código abierto y una plataforma de gestión de paquetes(librerías) diseñada para el desarrollo y la ciencia de datos en Python.\n",
        "\n",
        "Algunas de las características:\n",
        "Gestión de Paquetes: Por medio de la herramienta *Conda* que facilita la instalación, actualización y gestión de paquetes de Python y otros lenguajes.\n",
        "\n",
        "Entornos Virtuales: Se pueden crear entornos virtuales independientes para proyectos específicos, lo que permite aislar las dependencias y las versiones de los paquetes.\n",
        "\n",
        "Bibliotecas Científicas: Anaconda viene preinstalado con muchas bibliotecas científicas y de análisis de datos, como NumPy, SciPy, pandas, Matplotlib y Jupyter.\n",
        "\n",
        "Plataforma Multiplataforma: Anaconda está disponible para Windows, macOS y Linux."
      ],
      "metadata": {
        "id": "ZvQy2SPpZ05p"
      }
    },
    {
      "cell_type": "markdown",
      "source": [
        "# De donde descargo  e instalo Python? Desde el Sitio de Anaconda o desde Python.org? 🤔\n",
        "\n",
        "Depende de la necesidades y preferencias:\n",
        "\n",
        "Python desde python.org: Si solo necesitas una instalación básica de Python para desarrollo general y no tienes necesidades específicas de análisis de datos o ciencia de datos, descargar Python desde el sitio web oficial de Python [python.org](https://www.python.org/downloads/windows/).\n",
        "\n",
        "Anaconda con Python: Para análisis de datos, aprendizaje automático, ciencia de datos o desarrollo científico en Python, desde el sitio de [Anaconda](https://anaconda.org/anaconda/python)"
      ],
      "metadata": {
        "id": "ju0EdWMkbPvs"
      }
    },
    {
      "cell_type": "markdown",
      "source": [
        "# Qué versión de Python estoy usando??\n",
        "```\n",
        "import sys\n",
        "print(sys.version)\n",
        "\n",
        "```\n"
      ],
      "metadata": {
        "id": "h1B9c5npL4iX"
      }
    },
    {
      "cell_type": "markdown",
      "source": [],
      "metadata": {
        "id": "kmErVwumjtIZ"
      }
    },
    {
      "cell_type": "code",
      "source": [
        "import sys\n",
        "print(sys.version)\n"
      ],
      "metadata": {
        "colab": {
          "base_uri": "https://localhost:8080/"
        },
        "id": "R9KCUVFCNYrc",
        "outputId": "5df37075-892f-40ac-aa78-5b2fc68cb39d"
      },
      "execution_count": null,
      "outputs": [
        {
          "output_type": "stream",
          "name": "stdout",
          "text": [
            "3.10.12 (main, Jun 11 2023, 05:26:28) [GCC 11.4.0]\n"
          ]
        }
      ]
    },
    {
      "cell_type": "markdown",
      "source": [],
      "metadata": {
        "id": "k3QO50yoyN4M"
      }
    },
    {
      "cell_type": "markdown",
      "source": [
        "# Python en Excel!!! 😱?\n",
        "La respuesta es muuuy simple!!\n",
        "Guido van Rossum (les suena??) fue contratado por Microsoft en el año 2020.\n",
        "\n",
        "\n",
        "*   Por ahora solo para usuarios office 365 [programa office insiders](https://support.microsoft.com/es-es/topic/unirse-al-programa-microsoft-365-insider-3c7dda4f-4d05-0783-3a9a-182b50acb8a9)\n",
        "\n",
        "*   No requiere instalacion de librerías, ni del interprete de Python\n",
        "*   Es requisito estar conectado a internet, ya que todo el procesamiento de las funciones y comandos de Python se realiza en la nube de Microsoft(Azure)\n",
        "* [Python in Excel](https://techcommunity.microsoft.com/t5/microsoft-365-blog/introducing-python-in-excel-the-best-of-both-worlds-for-data/ba-p/3905482)\n",
        "\n"
      ],
      "metadata": {
        "id": "vx7h7gLwCW4Z"
      }
    },
    {
      "cell_type": "markdown",
      "source": [
        "ELT versus ETL\n",
        "Las diferencias entre ELT y un proceso ETL tradicional son más significativas que simplemente cambiar la L y la T.\n",
        "El mayor determinante es cómo, cuándo y dónde se realizan las transformaciones de datos.\n",
        "Con ETL, los datos sin procesar no están disponibles en el almacén de datos porque se transforman\n",
        "antes de cargarlos. Con ELT, los datos sin procesar se cargan en el almacén de datos (o lago de datos)\n",
        " y se producen transformaciones en los datos almacenados.\n",
        "Las áreas de preparación se utilizan tanto para ELT como para ETL, pero con ETL las áreas de preparación\n",
        " están integradas en la herramienta ETL que se utiliza. Con ELT, el área de preparación está en una base\n",
        " de datos utilizada para el almacén de datos."
      ],
      "metadata": {
        "id": "ksuKyjAYjx0J"
      }
    },
    {
      "cell_type": "markdown",
      "source": [
        "Comportamiento Dinámico: El tipado dinámico y la flexibilidad de Python pueden ser una ventaja en términos de productividad, pero también pueden llevar a errores difíciles de depurar en aplicaciones grandes y complejas.\n",
        "Un lenguaje de programación \"tipado\" se refiere a la forma en que se manejan los tipos de datos dentro del lenguaje. La tipificación se refiere a cómo el lenguaje asigna y verifica los tipos de datos de las variables y expresiones en un programa. Existen dos categorías principales de tipado: tipado estático y tipado dinámico. Aquí tienes una explicación de ambos con ejemplos:\n",
        "\n",
        "1. Tipado Estático:\n",
        "En un lenguaje de programación con tipado estático, el tipo de dato de una variable se declara y se verifica en tiempo de compilación, antes de que el programa se ejecute. Esto significa que debes especificar el tipo de dato de una variable cuando la declaras y cualquier intento de asignar un valor de tipo incorrecto a esa variable resultará en un error en tiempo de compilación.\n",
        ". Tipado Dinámico:\n",
        "En un lenguaje de programación con tipado dinámico, el tipo de dato de una variable se determina en tiempo de ejecución, y no es necesario especificar el tipo de dato al declararla. Esto significa que puedes asignar diferentes tipos de datos a la misma variable en momentos diferentes sin errores en tiempo de compilación.\n",
        "Tipado Estático: Los tipos de datos se verifican en tiempo de compilación. Debes especificar el tipo de dato al declarar una variable. Ejemplos incluyen C++, Java y C#.\n",
        "Tipado Dinámico: Los tipos de datos se determinan en tiempo de ejecución. No es necesario especificar el tipo de dato al declarar una variable. Ejemplos incluyen Python, JavaScript y Ruby.\n"
      ],
      "metadata": {
        "id": "fwsr8eR2kNbl"
      }
    }
  ]
}